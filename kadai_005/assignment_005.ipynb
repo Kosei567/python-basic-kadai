{
  "nbformat": 4,
  "nbformat_minor": 0,
  "metadata": {
    "colab": {
      "provenance": []
    },
    "kernelspec": {
      "name": "python3",
      "display_name": "Python 3"
    },
    "language_info": {
      "name": "python"
    }
  },
  "cells": [
    {
      "cell_type": "code",
      "execution_count": 4,
      "metadata": {
        "colab": {
          "base_uri": "https://localhost:8080/"
        },
        "id": "Fyo8NcdVJUpI",
        "outputId": "7dbab402-89bd-43d8-f206-5e23fa899842"
      },
      "outputs": [
        {
          "output_type": "stream",
          "name": "stdout",
          "text": [
            "75.0㎠\n"
          ]
        }
      ],
      "source": [
        "upper_side = 10\n",
        "bottom = 20\n",
        "height = 5\n",
        "\n",
        "area = (upper_side + bottom) * height / 2\n",
        "print(f\"{area}㎠\")"
      ]
    }
  ]
}